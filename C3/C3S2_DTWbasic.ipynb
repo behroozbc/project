{
 "cells": [
  {
   "cell_type": "markdown",
   "metadata": {},
   "source": [
    "<div>\n",
    "<a href=\"http://www.music-processing.de/\"><img style=\"float:left;\" src=\"../data/FMP_Teaser_Cover.png\" width=40% alt=\"FMP\"></a>\n",
    "<a href=\"https://www.audiolabs-erlangen.de\"><img src=\"../data/Logo_AudioLabs_Long.png\" width=59% style=\"float: right;\" alt=\"AudioLabs\"></a>\n",
    "</div>"
   ]
  },
  {
   "cell_type": "markdown",
   "metadata": {},
   "source": [
    "<div>\n",
    "<a href=\"../C3/C3.html\"><img src=\"../data/C3_nav.png\" width=\"100\"  style=\"float:right;\" alt=\"C3\"></a>\n",
    "<h1> Dynamic Time Warping (DTW)</h1> \n",
    "</div>\n",
    "\n",
    "<br/>\n",
    "\n",
    "<p>\n",
    "Following Section 3.2.1 of <a href=\"http://www.music-processing.de\">[Müller, FMP, Springer 2015]</a>, we explain in this notebook the basic algorithm for dynamic time warping (DTW). A general introduction can also be found in the following book chapter.\n",
    "\n",
    "<ul>    \n",
    "<li><span style=\"color:black\">\n",
    "Meinard Müller:  <a href=\"https://www.audiolabs-erlangen.de/fau/professor/mueller/publications/2007_Mueller_DTW-Chapter04-IR_Springer.pdf\"><strong>Dynamic Time Warping (Chapter 4 of Information Retrieval for Music and Motion).</strong></a> Springer Verlag, ISBN: 3540740473, 2007. \n",
    "<br>\n",
    "<a type=\"button\" class=\"btn btn-default btn-xs\" target=\"_blank\" href=\"../data/bibtex/FMP_bibtex_Mueller07_InformationRetrieval_SPRINGER.txt\"> Bibtex </a>\n",
    "</span></li>\n",
    "  \n",
    "</ul>   \n",
    "\n",
    "</p> "
   ]
  },
  {
   "cell_type": "markdown",
   "metadata": {},
   "source": [
    "## Basic Idea\n",
    "\n",
    "Given two sequences $X:=(x_1,x_2,\\ldots,x_N)$ of length $N\\in\\mathbb{N}$ and $Y:=(y_1,y_2,\\ldots,y_M)$ of length $M\\in\\mathbb{N}$, the objective of **dynamic time warping** (DTW) is to temporally align these two sequences in some optimal sense under certain constraints. The sequences may be discrete signals, feature sequences, sequences of characters, or any kind of time series. Often the indices of the sequences correspond to successive points in time that are spaced at uniform time intervals. The following figure illustrates an alignment (indicated by the red bidirectional arrows) between a sequence $X$ of length $N=9$ and a sequence $Y$ of length $M=7$.\n",
    "\n",
    "<img src=\"../data/C3/FMP_C3_F12.png\" width=\"500px\" align=\"middle\" alt=\"C0\">\n",
    "\n",
    "Each of the red bidirectional arrows encodes a correspondence between two elements $x_n$ and $y_m$ for $n\\in[1:N]$ and $m\\in[1:M]$. Such a local correspondence can be modeled by the index pair $(n,m)$. The right side of the above figure illustrates how the alignment shown on the left is encoded by a sequence of index pairs. "
   ]
  },
  {
   "cell_type": "markdown",
   "metadata": {},
   "source": [
    "## Warping Path\n",
    "\n",
    "To model a global alignment between the elements of the sequences $X$ and $Y$, the idea is to consider a sequence of index pairs that fulfills certain constraints. This leads to the notion of a **warping path**. By definition, an $(N,M)$-warping path of length $L\\in\\mathbb{N}$ is a sequence \n",
    "\n",
    "\\begin{equation}\n",
    "P=(p_1,\\ldots,p_L)\n",
    "\\end{equation}\n",
    "\n",
    "with $p_\\ell=(n_\\ell,m_\\ell)\\in[1:N]\\times [1:M]$ for $\\ell\\in[1:L]$ satisfying the following conditions:\n",
    "\n",
    "* Boundary condition: $p_1= (1,1)$ and $p_L=(N,M)$\n",
    "* Monotonicity condition:  $n_1\\leq n_2\\leq\\ldots \\leq n_L$ and $m_1\\leq m_2\\leq \\ldots \\leq m_L$\n",
    "* Step-size condition: $p_{\\ell+1}-p_\\ell\\in \\Sigma:=\\{(1,0),(0,1),(1,1)\\}$ for $\\ell\\in[1:L]$\n",
    "\n",
    "An $(N,M)$-warping path $P=(p_1,\\ldots,p_L)$ defines an alignment between two sequences $X=(x_1,x_2,\\ldots,x_N)$ and $Y=(y_1,y_2,\\ldots,y_M)$ by assigning the element $x_{n_\\ell}$ of $X$ to the element $y_{m_\\ell}$ of $Y$. The boundary condition enforces that the first elements of $X$ and $Y$ as well as the last elements of $X$ and $Y$ are aligned to each other. The monotonicity condition reflects the requirement of faithful timing: if an element in $X$ precedes a second element in $X$, then this should also hold for the corresponding elements in $Y$, and vice versa. Finally, the step size condition with respect to the set $\\Sigma$ expresses a kind of continuity condition: no element in $X$ and $Y$ can be omitted, and there are no replications in the alignment. Note that the step size condition implies the monotonicity condition, which nevertheless has been quoted explicitly for the sake of clarity. The following figure illustrates the conditions by some examples where the conditions (boundary, monotonicity, step size) are violated.\n",
    "\n",
    "<img src=\"../data/C3/FMP_C3_F13.png\" width=\"500px\" align=\"middle\" alt=\"C0\">"
   ]
  },
  {
   "cell_type": "markdown",
   "metadata": {},
   "source": [
    "## Cost Matrix and Optimality\n",
    "\n",
    "Next, we introduce a notion that tells us something about the **quality** of a warping path. To this end, we need a way to numerically compare the elements of the feature sequences $X$ and $Y$. Let $\\mathcal{F}$ be a **feature space** and assume that $x_n,y_m\\in\\mathcal{F}$ for $n\\in[1:N]$ and $m\\in[1:M]$. To compare two different features $x,y\\in\\mathcal{F}$, one needs a **local cost measure**, which is defined to be a function\n",
    "\n",
    "\\begin{equation}\n",
    "     c:\\mathcal{F}\\times\\mathcal{F}\\to \\mathbb{R}.\n",
    "\\end{equation}\n",
    "\n",
    "Typically, $c(x,y)$ is small (low cost) if $x$ and $y$ are similar to each other, and otherwise $c(x,y)$ is large (high cost). Evaluating the local cost measure for each pair of elements of the sequences $X$ and $Y$, one obtains a **cost matrix** $C\\in\\mathbb{R}^{N\\times M}$ defined by\n",
    "\n",
    "\\begin{equation}\n",
    "C(n,m):=c(x_n,y_m)\n",
    "\\end{equation}\n",
    "\n",
    "for $n\\in[1:N]$ and $m\\in[1:M]$. A tuple $(n,m)$ representing an entry of the matrix $C$ will be referred to as a **cell** of the matrix. The **total cost** $c_P(X,Y)$ of a warping path $P$ between two sequences $X$ and $Y$ with respect to the local cost measure $c$ is defined as\n",
    "\n",
    "\\begin{equation}\n",
    "     c_P:=\\sum_{\\ell=1}^L c(x_{n_\\ell},y_{m_\\ell}) = \\sum_{\\ell=1}^L C(n_\\ell,m_\\ell).\n",
    "\\end{equation}\n",
    "\n",
    "The intuition of this definition is that the warping path accumulates the cost of all cells it runs through. A warping path is \"good\" if its total cost is low, and it is \"bad\" if its total cost is high.  Now, we are interested in an **optimal warping path** between $X$ and $Y$, which is defined to be a warping path $P^\\ast$ that has minimal total cost among all possible warping paths.  The cells of this warping path encode an overall optimal alignment between \n",
    "the elements of the two sequences, where the warping path conditions ensure that each element of sequence $X$ is assigned to at least one element of $Y$ and vice versa. This leads us to the definition of the **DTW distance** denoted as $\\mathrm{DTW}(X,Y)$ between the two sequences $X$ of length $N$ and $Y$ of length $M$, which is defined as the total cost of an optimal $(N,M)$-warping path $P^\\ast$:\n",
    "\n",
    "\\begin{eqnarray}\n",
    "     \\mathrm{DTW}(X,Y) :=c_{P^\\ast}(X,Y) = \\min\\{c_P(X,Y)\\mid P \\mbox{ is an $(N,M)$-warping path} \\}\n",
    "\\end{eqnarray}"
   ]
  },
  {
   "cell_type": "markdown",
   "metadata": {},
   "source": [
    "## DTW Algorithm using Dynamic Programming\n",
    "\n",
    "To determine an optimal warping path $P^\\ast$ for two sequences $X$ and $Y$, one could compute the total cost of all possible $(N,M)$-warping paths and then take the minimal cost. However, the number of different $(N,M)$-warping paths is exponential in $N$ and $M$. Therefore, such a naive approach is computationally infeasible for large $N$ and $M$. We now introduce an $O(NM)$ algorithm that is based on **dynamic programming**. The general idea behind dynamic programming is to break down a given problem into simpler subproblems and then to combine the solutions of the subproblems to reach an overall solution. In the case of DTW, the idea is to derive an optimal warping path for the original sequences from optimal warping paths for truncated subsequences. This idea can then be applied recursively. To formalize this idea, we define the prefix sequences \n",
    "$X(1\\!:\\!n) := (x_1,\\ldots x_n)$ for $n\\in[1:N]$ and $Y(1\\!:\\!m) := (y_1,\\ldots y_m)$ for $m\\in[1:M]$ and set\n",
    "\n",
    "\\begin{equation}\n",
    "   D(n,m):=\\mathrm{DTW}(X(1\\!:\\!n),Y(1\\!:\\!m)).\n",
    "\\end{equation}\n",
    "\n",
    "The values $D$ define an $(N\\times M)$ matrix $D$, which is also referred to as the **accumulated cost matrix**. Each value $D(n,m)$ specifies the total (or accumulated) cost of an optimal warping path starting at cell $(1,1)$ and ending at cell $(n,m)$. Obviously, one has $D(N,M)=\\mathrm{DTW}(X,Y)$. The following table gives a description of the **DTW Algorithm** based on dynamic programming. In the first part, the accumulated cost matrix $D$ is computed iteratively using a nested loop. In the second part, the optimal warping path is computed using a backtracking procedure. For further details and a proof of the algorithm's correctness, we refer to Section 3.2.1 of <a href=\"http://www.music-processing.de\">[Müller, FMP, Springer 2015]</a>.\n",
    "\n",
    "<img src=\"../data/C3/FMP_C3_T02.png\" width=\"600px\" align=\"middle\" alt=\"C0\">"
   ]
  },
  {
   "cell_type": "markdown",
   "metadata": {},
   "source": [
    "## Implementation\n",
    "\n",
    "We now implement the DTW algorithm as described above. As an illustrative example, we consider two sequences of real numbers and the absolute value of differences (one-dimensional Euclidean distance) as cost measure. In other words, we have the feature space $\\mathcal{F}=\\mathbb{R}$ and $c(x,y):=|x-y|$ for $x,y\\in \\mathcal{F}$.\n",
    "\n",
    "<div class=\"alert alert-block alert-warning\">\n",
    "<strong>Note:</strong> In Python indexing of lists, arrays, matrices, and so on starts with the index 0. In the following implementation, we follow the Python convention leading to a systematic index shift of minus one in relation to the algorithmic description given above. In particular, this applies to: \n",
    "\n",
    "<ul>\n",
    "<li> Sequences:  <code>X = X[0], ..., X[N-1]</code> and <code>Y = Y[0], ..., Y[M-1]</code> </li>\n",
    "<li> Cost matrix and accumulated cost matrix: <code>C[0, 0], ..., C[N-1, M-1]</code> and <code>D[0, 0], ..., D[N-1, M-1]</code></li>\n",
    "<li> Warping path: <code>P = P[0], ..., P[L-1]</code> with <code>P[0] = (0, 0)</code> and <code>P[L-1] = (N-1, M-1)</code></li>\n",
    "</ul>    \n",
    "</div>"
   ]
  },
  {
   "cell_type": "code",
   "execution_count": 1,
   "metadata": {
    "execution": {
     "iopub.execute_input": "2024-02-15T08:50:40.118091Z",
     "iopub.status.busy": "2024-02-15T08:50:40.117792Z",
     "iopub.status.idle": "2024-02-15T08:50:41.907129Z",
     "shell.execute_reply": "2024-02-15T08:50:41.906548Z"
    }
   },
   "outputs": [
    {
     "data": {
      "image/png": "[encoded data removed]",
      "text/plain": [
       "<Figure size 432x144 with 1 Axes>"
      ]
     },
     "metadata": {
      "needs_background": "light"
     },
     "output_type": "display_data"
    }
   ],
   "source": [
    "import numpy as np\n",
    "import scipy.spatial\n",
    "from numba import jit\n",
    "import matplotlib.pyplot as plt\n",
    "%matplotlib inline\n",
    "\n",
    "X =  [1, 3, 9, 2, 1]\n",
    "Y = [2, 0, 0, 8, 7, 2]\n",
    "N = len(X)\n",
    "M = len(Y)\n",
    "\n",
    "plt.figure(figsize=(6, 2))\n",
    "plt.plot(X, c='k', label='$X$')\n",
    "plt.plot(Y, c='b', label='$Y$')\n",
    "plt.legend()\n",
    "plt.tight_layout()"
   ]
  },
  {
   "cell_type": "markdown",
   "metadata": {},
   "source": [
    "We now compute the **cost matrix** $C$ using the Euclidean distance as **local cost measure** (which amounts to the absolute value in the one-dimensional case)."
   ]
  },
  {
   "cell_type": "code",
   "execution_count": 2,
   "metadata": {
    "execution": {
     "iopub.execute_input": "2024-02-15T08:50:41.941701Z",
     "iopub.status.busy": "2024-02-15T08:50:41.941406Z",
     "iopub.status.idle": "2024-02-15T08:50:41.946492Z",
     "shell.execute_reply": "2024-02-15T08:50:41.945788Z"
    }
   },
   "outputs": [
    {
     "name": "stdout",
     "output_type": "stream",
     "text": [
      "Cost matrix C =\n",
      "[[1. 1. 1. 7. 6. 1.]\n",
      " [1. 3. 3. 5. 4. 1.]\n",
      " [7. 9. 9. 1. 2. 7.]\n",
      " [0. 2. 2. 6. 5. 0.]\n",
      " [1. 1. 1. 7. 6. 1.]]\n"
     ]
    }
   ],
   "source": [
    "def compute_cost_matrix(X, Y, metric='euclidean'):\n",
    "    \"\"\"Compute the cost matrix of two feature sequences\n",
    "\n",
    "    Notebook: C3/C3S2_DTWbasic.ipynb\n",
    "\n",
    "    Args:\n",
    "        X (np.ndarray): Sequence 1\n",
    "        Y (np.ndarray): Sequence 2\n",
    "        metric (str): Cost metric, a valid strings for scipy.spatial.distance.cdist (Default value = 'euclidean')\n",
    "\n",
    "    Returns:\n",
    "        C (np.ndarray): Cost matrix\n",
    "    \"\"\"\n",
    "    X, Y = np.atleast_2d(X, Y)\n",
    "    C = scipy.spatial.distance.cdist(X.T, Y.T, metric=metric)\n",
    "    return C\n",
    "\n",
    "C =  compute_cost_matrix(X, Y, metric='euclidean')\n",
    "print('Cost matrix C =', C, sep='\\n')"
   ]
  },
  {
   "cell_type": "markdown",
   "metadata": {},
   "source": [
    "Next, using dynamic programming, we compute the **accumulated cost matrix** $D$,  which yields the **DTW distance** $\\mathrm{DTW}(X,Y)$."
   ]
  },
  {
   "cell_type": "code",
   "execution_count": 3,
   "metadata": {
    "execution": {
     "iopub.execute_input": "2024-02-15T08:50:41.949716Z",
     "iopub.status.busy": "2024-02-15T08:50:41.949487Z",
     "iopub.status.idle": "2024-02-15T08:50:42.489113Z",
     "shell.execute_reply": "2024-02-15T08:50:42.488482Z"
    }
   },
   "outputs": [
    {
     "name": "stdout",
     "output_type": "stream",
     "text": [
      "Accumulated cost matrix D =\n",
      "[[ 1.  2.  3. 10. 16. 17.]\n",
      " [ 2.  4.  5.  8. 12. 13.]\n",
      " [ 9. 11. 13.  6.  8. 15.]\n",
      " [ 9. 11. 13. 12. 11.  8.]\n",
      " [10. 10. 11. 18. 17.  9.]]\n",
      "DTW distance DTW(X, Y) = 9.0\n"
     ]
    }
   ],
   "source": [
    "@jit(nopython=True)\n",
    "def compute_accumulated_cost_matrix(C):\n",
    "    \"\"\"Compute the accumulated cost matrix given the cost matrix\n",
    "\n",
    "    Notebook: C3/C3S2_DTWbasic.ipynb\n",
    "\n",
    "    Args:\n",
    "        C (np.ndarray): Cost matrix\n",
    "\n",
    "    Returns:\n",
    "        D (np.ndarray): Accumulated cost matrix\n",
    "    \"\"\"\n",
    "    N = C.shape[0]\n",
    "    M = C.shape[1]\n",
    "    D = np.zeros((N, M))\n",
    "    D[0, 0] = C[0, 0]\n",
    "    for n in range(1, N):\n",
    "        D[n, 0] = D[n-1, 0] + C[n, 0]\n",
    "    for m in range(1, M):\n",
    "        D[0, m] = D[0, m-1] + C[0, m]\n",
    "    for n in range(1, N):\n",
    "        for m in range(1, M):\n",
    "            D[n, m] = C[n, m] + min(D[n-1, m], D[n, m-1], D[n-1, m-1])\n",
    "    return D\n",
    "\n",
    "D =  compute_accumulated_cost_matrix(C)\n",
    "print('Accumulated cost matrix D =', D, sep='\\n')\n",
    "print('DTW distance DTW(X, Y) =', D[-1, -1])"
   ]
  },
  {
   "cell_type": "markdown",
   "metadata": {},
   "source": [
    "Finally, we derive the optimal warping path $P^\\ast$ using backtracking."
   ]
  },
  {
   "cell_type": "code",
   "execution_count": 4,
   "metadata": {
    "execution": {
     "iopub.execute_input": "2024-02-15T08:50:42.491712Z",
     "iopub.status.busy": "2024-02-15T08:50:42.491508Z",
     "iopub.status.idle": "2024-02-15T08:50:42.751507Z",
     "shell.execute_reply": "2024-02-15T08:50:42.750879Z"
    }
   },
   "outputs": [
    {
     "name": "stdout",
     "output_type": "stream",
     "text": [
      "Optimal warping path P = [[0, 0], [0, 1], [1, 2], [2, 3], [2, 4], [3, 5], [4, 5]]\n"
     ]
    }
   ],
   "source": [
    "@jit(nopython=True)\n",
    "def compute_optimal_warping_path(D):\n",
    "    \"\"\"Compute the warping path given an accumulated cost matrix\n",
    "\n",
    "    Notebook: C3/C3S2_DTWbasic.ipynb\n",
    "\n",
    "    Args:\n",
    "        D (np.ndarray): Accumulated cost matrix\n",
    "\n",
    "    Returns:\n",
    "        P (np.ndarray): Optimal warping path\n",
    "    \"\"\"\n",
    "    N = D.shape[0]\n",
    "    M = D.shape[1]\n",
    "    n = N - 1\n",
    "    m = M - 1\n",
    "    P = [(n, m)]\n",
    "    while n > 0 or m > 0:\n",
    "        if n == 0:\n",
    "            cell = (0, m - 1)\n",
    "        elif m == 0:\n",
    "            cell = (n - 1, 0)\n",
    "        else:\n",
    "            val = min(D[n-1, m-1], D[n-1, m], D[n, m-1])\n",
    "            if val == D[n-1, m-1]:\n",
    "                cell = (n-1, m-1)\n",
    "            elif val == D[n-1, m]:\n",
    "                cell = (n-1, m)\n",
    "            else:\n",
    "                cell = (n, m-1)\n",
    "        P.append(cell)\n",
    "        (n, m) = cell\n",
    "    P.reverse()\n",
    "    return np.array(P)\n",
    "        \n",
    "P = compute_optimal_warping_path(D)\n",
    "print('Optimal warping path P =', P.tolist())"
   ]
  },
  {
   "cell_type": "markdown",
   "metadata": {},
   "source": [
    "As a sanity check, we now compute the **total cost** of the optimal warping path, which agrees with $\\mathrm{DTW}(X,Y)$."
   ]
  },
  {
   "cell_type": "code",
   "execution_count": 5,
   "metadata": {
    "execution": {
     "iopub.execute_input": "2024-02-15T08:50:42.754529Z",
     "iopub.status.busy": "2024-02-15T08:50:42.754330Z",
     "iopub.status.idle": "2024-02-15T08:50:42.757675Z",
     "shell.execute_reply": "2024-02-15T08:50:42.757153Z"
    }
   },
   "outputs": [
    {
     "name": "stdout",
     "output_type": "stream",
     "text": [
      "Total cost of optimal warping path: 9.0\n",
      "DTW distance DTW(X, Y) = 9.0\n"
     ]
    }
   ],
   "source": [
    "c_P = sum(C[n, m] for (n, m) in P)\n",
    "print('Total cost of optimal warping path:', c_P)\n",
    "print('DTW distance DTW(X, Y) =', D[-1, -1])"
   ]
  },
  {
   "cell_type": "markdown",
   "metadata": {},
   "source": [
    "Finally, we visualize the cost matrix $C$ and the accumulated cost matrix $D$ along with the optimal warping path (indicated by the red dots)."
   ]
  },
  {
   "cell_type": "code",
   "execution_count": 6,
   "metadata": {
    "execution": {
     "iopub.execute_input": "2024-02-15T08:50:42.760239Z",
     "iopub.status.busy": "2024-02-15T08:50:42.760045Z",
     "iopub.status.idle": "2024-02-15T08:50:43.085018Z",
     "shell.execute_reply": "2024-02-15T08:50:43.084466Z"
    }
   },
   "outputs": [
    {
     "data": {
      "image/png": "[encoded data removed]",
      "text/plain": [
       "<Figure size 648x216 with 4 Axes>"
      ]
     },
     "metadata": {
      "needs_background": "light"
     },
     "output_type": "display_data"
    }
   ],
   "source": [
    "P = np.array(P) \n",
    "plt.figure(figsize=(9, 3))\n",
    "plt.subplot(1, 2, 1)\n",
    "plt.imshow(C, cmap='gray_r', origin='lower', aspect='equal')\n",
    "plt.plot(P[:, 1], P[:, 0], marker='o', color='r')\n",
    "plt.clim([0, np.max(C)])\n",
    "plt.colorbar()\n",
    "plt.title('$C$ with optimal warping path')\n",
    "plt.xlabel('Sequence Y')\n",
    "plt.ylabel('Sequence X')\n",
    "\n",
    "plt.subplot(1, 2, 2)\n",
    "plt.imshow(D, cmap='gray_r', origin='lower', aspect='equal')\n",
    "plt.plot(P[:, 1], P[:, 0], marker='o', color='r')\n",
    "plt.clim([0, np.max(D)])\n",
    "plt.colorbar()\n",
    "plt.title('$D$ with optimal warping path')\n",
    "plt.xlabel('Sequence Y')\n",
    "plt.ylabel('Sequence X')\n",
    "\n",
    "plt.tight_layout()"
   ]
  },
  {
   "cell_type": "markdown",
   "metadata": {},
   "source": [
    "## libfmp Implemetation\n",
    "\n",
    "Some of the above functions involve nested loops, which are inefficient to compute when using Python. Using the [`jit`-compiler offered by the Python package Numba](../B/B_PythonNumba.html), one finds accelerated versions of these functions as part of the [`libfmp`-library](../B/B_libfmp.html). This library also contains functions for visualization. In the following code cell, we call some of these functions:"
   ]
  },
  {
   "cell_type": "code",
   "execution_count": 7,
   "metadata": {
    "execution": {
     "iopub.execute_input": "2024-02-15T08:50:43.087836Z",
     "iopub.status.busy": "2024-02-15T08:50:43.087594Z",
     "iopub.status.idle": "2024-02-15T08:50:44.757422Z",
     "shell.execute_reply": "2024-02-15T08:50:44.756720Z"
    }
   },
   "outputs": [
    {
     "data": {
      "image/png": "[encoded data removed]",
      "text/plain": [
       "<Figure size 648x216 with 4 Axes>"
      ]
     },
     "metadata": {
      "needs_background": "light"
     },
     "output_type": "display_data"
    }
   ],
   "source": [
    "import sys\n",
    "sys.path.append('..')\n",
    "\n",
    "import libfmp.c3\n",
    "\n",
    "C = libfmp.c3.compute_cost_matrix(X, Y)\n",
    "D = libfmp.c3.compute_accumulated_cost_matrix(C)\n",
    "P = libfmp.c3.compute_optimal_warping_path(D)\n",
    "\n",
    "P = np.array(P)\n",
    "\n",
    "plt.figure(figsize=(9, 3))\n",
    "ax = plt.subplot(1, 2, 1)\n",
    "libfmp.c3.plot_matrix_with_points(C, P, linestyle='-', \n",
    "    ax=[ax], aspect='equal', clim=[0, np.max(C)],\n",
    "    title='$C$ with optimal warping path', xlabel='Sequence Y', ylabel='Sequence X');\n",
    "\n",
    "ax = plt.subplot(1, 2, 2)\n",
    "libfmp.c3.plot_matrix_with_points(D, P, linestyle='-', \n",
    "    ax=[ax], aspect='equal', clim=[0, np.max(D)],\n",
    "    title='$D$ with optimal warping path', xlabel='Sequence Y', ylabel='Sequence X');\n",
    "\n",
    "plt.tight_layout()"
   ]
  },
  {
   "cell_type": "markdown",
   "metadata": {},
   "source": [
    "## LibROSA Implemetation\n",
    "\n",
    "[LibROSA](https://librosa.org/doc) also offers a DTW function that can realize different [DTW variants](../C3/C3S2_DTWvariants.html). In the following cell, we show how to call the `librosa`-function for the basic DTW algorithm introduced above. Note that the cost matrix $C$ is computed inside the function `librosa.sequence.dtw` and is not returned. For plotting purposes, we reuse the cost matrix from above. As an alternative, one can first compute the cost matrix outside `librosa.sequence.dtw` and then input this matrix to the function (instead of the sequences $X$ and $Y$)."
   ]
  },
  {
   "cell_type": "code",
   "execution_count": 8,
   "metadata": {
    "execution": {
     "iopub.execute_input": "2024-02-15T08:50:44.760057Z",
     "iopub.status.busy": "2024-02-15T08:50:44.759858Z",
     "iopub.status.idle": "2024-02-15T08:50:45.094266Z",
     "shell.execute_reply": "2024-02-15T08:50:45.093658Z"
    }
   },
   "outputs": [
    {
     "data": {
      "image/png": "[encoded data removed]",
      "text/plain": [
       "<Figure size 648x216 with 4 Axes>"
      ]
     },
     "metadata": {
      "needs_background": "light"
     },
     "output_type": "display_data"
    }
   ],
   "source": [
    "import librosa\n",
    "\n",
    "D, P = librosa.sequence.dtw(X, Y, metric='euclidean', \n",
    "                            step_sizes_sigma=np.array([[1, 1], [0, 1], [1, 0]]),\n",
    "                            weights_add=np.array([0, 0, 0]), weights_mul=np.array([1, 1, 1]))\n",
    "\n",
    "plt.figure(figsize=(9, 3))\n",
    "ax = plt.subplot(1, 2, 1)\n",
    "libfmp.c3.plot_matrix_with_points(C, P, linestyle='-', \n",
    "    ax=[ax], aspect='equal', clim=[0, np.max(C)],\n",
    "    title='$C$ with optimal warping path', xlabel='Sequence Y', ylabel='Sequence X');\n",
    "\n",
    "ax = plt.subplot(1, 2, 2)\n",
    "libfmp.c3.plot_matrix_with_points(D, P, linestyle='-', \n",
    "    ax=[ax], aspect='equal', clim=[0, np.max(D)],\n",
    "    title='$D$ with optimal warping path', xlabel='Sequence Y', ylabel='Sequence X');\n",
    "\n",
    "plt.tight_layout()"
   ]
  },
  {
   "cell_type": "markdown",
   "metadata": {},
   "source": [
    "## Further Notes\n",
    "\n",
    "* In the [FMP notebook an DTW variants](../C3/C3S2_DTWvariants.html) we discuss various modifications to speed up DTW computations as well as to better control the overall course of the warping paths.\n",
    "* We represent in the [FMP notebook on music synchronization](../C3/C3_MusicSynchronization.html) an example application, where we apply DTW for automatically aligning to different recordings of the same piece of music.\n",
    "* In the FMP notebooks, we discuss many more alignment algorithms related to DTW. All these algorithms are based on dynamics programming (DP). For example:  \n",
    "    * In the context of [chord recognition](../C5/C5.html), we study the [Viterbi Algorithm](../C5/C5S3_Viterbi.html) for finding an optimal chord sequence. \n",
    "    * In the context of [audio retrieval](../C7/C7.html), we introduce [Subsequence DTW](../C7/C7S2_SubsequenceDTW.html), which is a local variant of DTW.\n",
    "    * In the context of [music structure analysis](../C4/C4.html), introduce a DP-based algorithm for computing an [audio thumbnail](../C4/C4S3_AudioThumbnailing.html)&mdash;the most representative and descriptive section of a music recording. \n"
   ]
  },
  {
   "cell_type": "markdown",
   "metadata": {},
   "source": [
    "<div class=\"alert\" style=\"background-color:#F5F5F5; border-color:#C8C8C8\">\n",
    "<strong>Acknowledgment:</strong> This notebook was created by <a href=\"https://www.audiolabs-erlangen.de/fau/professor/mueller\">Meinard Müller</a> and <a href=\"https://www.audiolabs-erlangen.de/fau/assistant/zalkow\">Frank Zalkow</a>.\n",
    "</div> "
   ]
  },
  {
   "cell_type": "markdown",
   "metadata": {},
   "source": [
    "<table style=\"border:none\">\n",
    "<tr style=\"border:none\">\n",
    "    <td style=\"min-width:50px; border:none\" bgcolor=\"white\"><a href=\"../C0/C0.html\"><img src=\"../data/C0_nav.png\" style=\"height:50px\" alt=\"C0\"></a></td>\n",
    "    <td style=\"min-width:50px; border:none\" bgcolor=\"white\"><a href=\"../C1/C1.html\"><img src=\"../data/C1_nav.png\" style=\"height:50px\" alt=\"C1\"></a></td>\n",
    "    <td style=\"min-width:50px; border:none\" bgcolor=\"white\"><a href=\"../C2/C2.html\"><img src=\"../data/C2_nav.png\" style=\"height:50px\" alt=\"C2\"></a></td>\n",
    "    <td style=\"min-width:50px; border:none\" bgcolor=\"white\"><a href=\"../C3/C3.html\"><img src=\"../data/C3_nav.png\" style=\"height:50px\" alt=\"C3\"></a></td>\n",
    "    <td style=\"min-width:50px; border:none\" bgcolor=\"white\"><a href=\"../C4/C4.html\"><img src=\"../data/C4_nav.png\" style=\"height:50px\" alt=\"C4\"></a></td>\n",
    "    <td style=\"min-width:50px; border:none\" bgcolor=\"white\"><a href=\"../C5/C5.html\"><img src=\"../data/C5_nav.png\" style=\"height:50px\" alt=\"C5\"></a></td>\n",
    "    <td style=\"min-width:50px; border:none\" bgcolor=\"white\"><a href=\"../C6/C6.html\"><img src=\"../data/C6_nav.png\" style=\"height:50px\" alt=\"C6\"></a></td>\n",
    "    <td style=\"min-width:50px; border:none\" bgcolor=\"white\"><a href=\"../C7/C7.html\"><img src=\"../data/C7_nav.png\" style=\"height:50px\" alt=\"C7\"></a></td>\n",
    "    <td style=\"min-width:50px; border:none\" bgcolor=\"white\"><a href=\"../C8/C8.html\"><img src=\"../data/C8_nav.png\" style=\"height:50px\" alt=\"C8\"></a></td>\n",
    "</tr>\n",
    "</table>"
   ]
  }
 ],
 "metadata": {
  "anaconda-cloud": {},
  "kernelspec": {
   "display_name": "Python 3",
   "language": "python",
   "name": "python3"
  },
  "language_info": {
   "codemirror_mode": {
    "name": "ipython",
    "version": 3
   },
   "file_extension": ".py",
   "mimetype": "text/x-python",
   "name": "python",
   "nbconvert_exporter": "python",
   "pygments_lexer": "ipython3",
   "version": "3.8.16"
  }
 },
 "nbformat": 4,
 "nbformat_minor": 1
}
